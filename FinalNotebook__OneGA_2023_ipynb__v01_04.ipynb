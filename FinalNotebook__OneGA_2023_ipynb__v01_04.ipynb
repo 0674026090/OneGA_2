{
  "nbformat": 4,
  "nbformat_minor": 0,
  "metadata": {
    "colab": {
      "provenance": [],
      "collapsed_sections": [
        "SMuRMCqulX38"
      ]
    },
    "kernelspec": {
      "name": "python3",
      "display_name": "Python 3"
    },
    "language_info": {
      "name": "python"
    }
  },
  "cells": [
    {
      "cell_type": "code",
      "execution_count": null,
      "metadata": {
        "id": "_9FqMWepaWeZ"
      },
      "outputs": [],
      "source": [
        "import numpy as np # Работа с массивами данных\n",
        "import pandas as pd # Работа с табличными данными\n",
        "from tensorflow.keras import utils # Функции-утилиты для работы с категориальными данными\n",
        "from tensorflow.keras.models import Sequential, Model # Класс для конструирования последовательной модели нейронной сети\n",
        "from tensorflow.keras.layers import Dense, Dropout, SpatialDropout1D, BatchNormalization, Embedding, Flatten, Activation, Input, concatenate # Основные слои\n",
        "from tensorflow.keras.layers import SimpleRNN, GRU, LSTM, Bidirectional, Conv1D, MaxPooling1D, GlobalMaxPooling1D # Основные слои\n",
        "from tensorflow.keras.optimizers import Adam, Adadelta, SGD, Adagrad, RMSprop # Оптимизаторы\n",
        "from tensorflow.keras.preprocessing.text import Tokenizer # Токенизатор для преобразование текстов в последовательности\n",
        "from sklearn.preprocessing import StandardScaler # Масштабирование данных\n",
        "import gdown # Загрузка датасетов из облака google\n",
        "import re # Регулярные выражения\n",
        "import matplotlib.pyplot as plt # Отрисовка графиков\n",
        "from sklearn.metrics import mean_squared_error, mean_absolute_error # Метрики для расчета ошибок\n",
        "%matplotlib inline"
      ]
    },
    {
      "cell_type": "code",
      "source": [
        "# Подключить Google диск\n",
        "from google.colab import drive\n",
        "drive.mount('/content/drive')\n",
        "import pandas as pd\n",
        "       "
      ],
      "metadata": {
        "colab": {
          "base_uri": "https://localhost:8080/"
        },
        "id": "bt_R3pRKbDbz",
        "outputId": "e4f961f7-63c8-4157-8031-c7fc918c139c"
      },
      "execution_count": null,
      "outputs": [
        {
          "output_type": "stream",
          "name": "stdout",
          "text": [
            "Mounted at /content/drive\n"
          ]
        }
      ]
    },
    {
      "cell_type": "code",
      "source": [
        "df_1 = pd.read_csv('/content/drive/MyDrive/OneGA/t1_20220101_20220726_rg_201589066.csv', index_col=0)\n",
        "len(df_1)\n",
        "\n",
        "import sklearn\n",
        "from sklearn import preprocessing\n",
        "from sklearn.preprocessing import LabelEncoder                       # Импортируем модуль preprocessing в котором хранится LabelEncoder\n",
        "label_encoder = preprocessing.LabelEncoder() \n",
        "df_1.head(2)\n",
        "df_1.info()"
      ],
      "metadata": {
        "colab": {
          "base_uri": "https://localhost:8080/",
          "height": 415
        },
        "id": "tmspGh9pVn15",
        "outputId": "1985bfc9-b593-4a34-d2bb-0528951131dd"
      },
      "execution_count": null,
      "outputs": [
        {
          "output_type": "error",
          "ename": "FileNotFoundError",
          "evalue": "ignored",
          "traceback": [
            "\u001b[0;31m---------------------------------------------------------------------------\u001b[0m",
            "\u001b[0;31mFileNotFoundError\u001b[0m                         Traceback (most recent call last)",
            "\u001b[0;32m<ipython-input-4-6780b4539aa5>\u001b[0m in \u001b[0;36m<module>\u001b[0;34m\u001b[0m\n\u001b[0;32m----> 1\u001b[0;31m \u001b[0mdf_1\u001b[0m \u001b[0;34m=\u001b[0m \u001b[0mpd\u001b[0m\u001b[0;34m.\u001b[0m\u001b[0mread_csv\u001b[0m\u001b[0;34m(\u001b[0m\u001b[0;34m'/content/drive/MyDrive/OneGA/t1_20220101_20220726_rg_201589066.csv'\u001b[0m\u001b[0;34m,\u001b[0m \u001b[0mindex_col\u001b[0m\u001b[0;34m=\u001b[0m\u001b[0;36m0\u001b[0m\u001b[0;34m)\u001b[0m\u001b[0;34m\u001b[0m\u001b[0;34m\u001b[0m\u001b[0m\n\u001b[0m\u001b[1;32m      2\u001b[0m \u001b[0mlen\u001b[0m\u001b[0;34m(\u001b[0m\u001b[0mdf_1\u001b[0m\u001b[0;34m)\u001b[0m\u001b[0;34m\u001b[0m\u001b[0;34m\u001b[0m\u001b[0m\n\u001b[1;32m      3\u001b[0m \u001b[0;34m\u001b[0m\u001b[0m\n\u001b[1;32m      4\u001b[0m \u001b[0;32mimport\u001b[0m \u001b[0msklearn\u001b[0m\u001b[0;34m\u001b[0m\u001b[0;34m\u001b[0m\u001b[0m\n\u001b[1;32m      5\u001b[0m \u001b[0;32mfrom\u001b[0m \u001b[0msklearn\u001b[0m \u001b[0;32mimport\u001b[0m \u001b[0mpreprocessing\u001b[0m\u001b[0;34m\u001b[0m\u001b[0;34m\u001b[0m\u001b[0m\n",
            "\u001b[0;32m/usr/local/lib/python3.8/dist-packages/pandas/util/_decorators.py\u001b[0m in \u001b[0;36mwrapper\u001b[0;34m(*args, **kwargs)\u001b[0m\n\u001b[1;32m    309\u001b[0m                     \u001b[0mstacklevel\u001b[0m\u001b[0;34m=\u001b[0m\u001b[0mstacklevel\u001b[0m\u001b[0;34m,\u001b[0m\u001b[0;34m\u001b[0m\u001b[0;34m\u001b[0m\u001b[0m\n\u001b[1;32m    310\u001b[0m                 )\n\u001b[0;32m--> 311\u001b[0;31m             \u001b[0;32mreturn\u001b[0m \u001b[0mfunc\u001b[0m\u001b[0;34m(\u001b[0m\u001b[0;34m*\u001b[0m\u001b[0margs\u001b[0m\u001b[0;34m,\u001b[0m \u001b[0;34m**\u001b[0m\u001b[0mkwargs\u001b[0m\u001b[0;34m)\u001b[0m\u001b[0;34m\u001b[0m\u001b[0;34m\u001b[0m\u001b[0m\n\u001b[0m\u001b[1;32m    312\u001b[0m \u001b[0;34m\u001b[0m\u001b[0m\n\u001b[1;32m    313\u001b[0m         \u001b[0;32mreturn\u001b[0m \u001b[0mwrapper\u001b[0m\u001b[0;34m\u001b[0m\u001b[0;34m\u001b[0m\u001b[0m\n",
            "\u001b[0;32m/usr/local/lib/python3.8/dist-packages/pandas/io/parsers/readers.py\u001b[0m in \u001b[0;36mread_csv\u001b[0;34m(filepath_or_buffer, sep, delimiter, header, names, index_col, usecols, squeeze, prefix, mangle_dupe_cols, dtype, engine, converters, true_values, false_values, skipinitialspace, skiprows, skipfooter, nrows, na_values, keep_default_na, na_filter, verbose, skip_blank_lines, parse_dates, infer_datetime_format, keep_date_col, date_parser, dayfirst, cache_dates, iterator, chunksize, compression, thousands, decimal, lineterminator, quotechar, quoting, doublequote, escapechar, comment, encoding, encoding_errors, dialect, error_bad_lines, warn_bad_lines, on_bad_lines, delim_whitespace, low_memory, memory_map, float_precision, storage_options)\u001b[0m\n\u001b[1;32m    584\u001b[0m     \u001b[0mkwds\u001b[0m\u001b[0;34m.\u001b[0m\u001b[0mupdate\u001b[0m\u001b[0;34m(\u001b[0m\u001b[0mkwds_defaults\u001b[0m\u001b[0;34m)\u001b[0m\u001b[0;34m\u001b[0m\u001b[0;34m\u001b[0m\u001b[0m\n\u001b[1;32m    585\u001b[0m \u001b[0;34m\u001b[0m\u001b[0m\n\u001b[0;32m--> 586\u001b[0;31m     \u001b[0;32mreturn\u001b[0m \u001b[0m_read\u001b[0m\u001b[0;34m(\u001b[0m\u001b[0mfilepath_or_buffer\u001b[0m\u001b[0;34m,\u001b[0m \u001b[0mkwds\u001b[0m\u001b[0;34m)\u001b[0m\u001b[0;34m\u001b[0m\u001b[0;34m\u001b[0m\u001b[0m\n\u001b[0m\u001b[1;32m    587\u001b[0m \u001b[0;34m\u001b[0m\u001b[0m\n\u001b[1;32m    588\u001b[0m \u001b[0;34m\u001b[0m\u001b[0m\n",
            "\u001b[0;32m/usr/local/lib/python3.8/dist-packages/pandas/io/parsers/readers.py\u001b[0m in \u001b[0;36m_read\u001b[0;34m(filepath_or_buffer, kwds)\u001b[0m\n\u001b[1;32m    480\u001b[0m \u001b[0;34m\u001b[0m\u001b[0m\n\u001b[1;32m    481\u001b[0m     \u001b[0;31m# Create the parser.\u001b[0m\u001b[0;34m\u001b[0m\u001b[0;34m\u001b[0m\u001b[0;34m\u001b[0m\u001b[0m\n\u001b[0;32m--> 482\u001b[0;31m     \u001b[0mparser\u001b[0m \u001b[0;34m=\u001b[0m \u001b[0mTextFileReader\u001b[0m\u001b[0;34m(\u001b[0m\u001b[0mfilepath_or_buffer\u001b[0m\u001b[0;34m,\u001b[0m \u001b[0;34m**\u001b[0m\u001b[0mkwds\u001b[0m\u001b[0;34m)\u001b[0m\u001b[0;34m\u001b[0m\u001b[0;34m\u001b[0m\u001b[0m\n\u001b[0m\u001b[1;32m    483\u001b[0m \u001b[0;34m\u001b[0m\u001b[0m\n\u001b[1;32m    484\u001b[0m     \u001b[0;32mif\u001b[0m \u001b[0mchunksize\u001b[0m \u001b[0;32mor\u001b[0m \u001b[0miterator\u001b[0m\u001b[0;34m:\u001b[0m\u001b[0;34m\u001b[0m\u001b[0;34m\u001b[0m\u001b[0m\n",
            "\u001b[0;32m/usr/local/lib/python3.8/dist-packages/pandas/io/parsers/readers.py\u001b[0m in \u001b[0;36m__init__\u001b[0;34m(self, f, engine, **kwds)\u001b[0m\n\u001b[1;32m    809\u001b[0m             \u001b[0mself\u001b[0m\u001b[0;34m.\u001b[0m\u001b[0moptions\u001b[0m\u001b[0;34m[\u001b[0m\u001b[0;34m\"has_index_names\"\u001b[0m\u001b[0;34m]\u001b[0m \u001b[0;34m=\u001b[0m \u001b[0mkwds\u001b[0m\u001b[0;34m[\u001b[0m\u001b[0;34m\"has_index_names\"\u001b[0m\u001b[0;34m]\u001b[0m\u001b[0;34m\u001b[0m\u001b[0;34m\u001b[0m\u001b[0m\n\u001b[1;32m    810\u001b[0m \u001b[0;34m\u001b[0m\u001b[0m\n\u001b[0;32m--> 811\u001b[0;31m         \u001b[0mself\u001b[0m\u001b[0;34m.\u001b[0m\u001b[0m_engine\u001b[0m \u001b[0;34m=\u001b[0m \u001b[0mself\u001b[0m\u001b[0;34m.\u001b[0m\u001b[0m_make_engine\u001b[0m\u001b[0;34m(\u001b[0m\u001b[0mself\u001b[0m\u001b[0;34m.\u001b[0m\u001b[0mengine\u001b[0m\u001b[0;34m)\u001b[0m\u001b[0;34m\u001b[0m\u001b[0;34m\u001b[0m\u001b[0m\n\u001b[0m\u001b[1;32m    812\u001b[0m \u001b[0;34m\u001b[0m\u001b[0m\n\u001b[1;32m    813\u001b[0m     \u001b[0;32mdef\u001b[0m \u001b[0mclose\u001b[0m\u001b[0;34m(\u001b[0m\u001b[0mself\u001b[0m\u001b[0;34m)\u001b[0m\u001b[0;34m:\u001b[0m\u001b[0;34m\u001b[0m\u001b[0;34m\u001b[0m\u001b[0m\n",
            "\u001b[0;32m/usr/local/lib/python3.8/dist-packages/pandas/io/parsers/readers.py\u001b[0m in \u001b[0;36m_make_engine\u001b[0;34m(self, engine)\u001b[0m\n\u001b[1;32m   1038\u001b[0m             )\n\u001b[1;32m   1039\u001b[0m         \u001b[0;31m# error: Too many arguments for \"ParserBase\"\u001b[0m\u001b[0;34m\u001b[0m\u001b[0;34m\u001b[0m\u001b[0;34m\u001b[0m\u001b[0m\n\u001b[0;32m-> 1040\u001b[0;31m         \u001b[0;32mreturn\u001b[0m \u001b[0mmapping\u001b[0m\u001b[0;34m[\u001b[0m\u001b[0mengine\u001b[0m\u001b[0;34m]\u001b[0m\u001b[0;34m(\u001b[0m\u001b[0mself\u001b[0m\u001b[0;34m.\u001b[0m\u001b[0mf\u001b[0m\u001b[0;34m,\u001b[0m \u001b[0;34m**\u001b[0m\u001b[0mself\u001b[0m\u001b[0;34m.\u001b[0m\u001b[0moptions\u001b[0m\u001b[0;34m)\u001b[0m  \u001b[0;31m# type: ignore[call-arg]\u001b[0m\u001b[0;34m\u001b[0m\u001b[0;34m\u001b[0m\u001b[0m\n\u001b[0m\u001b[1;32m   1041\u001b[0m \u001b[0;34m\u001b[0m\u001b[0m\n\u001b[1;32m   1042\u001b[0m     \u001b[0;32mdef\u001b[0m \u001b[0m_failover_to_python\u001b[0m\u001b[0;34m(\u001b[0m\u001b[0mself\u001b[0m\u001b[0;34m)\u001b[0m\u001b[0;34m:\u001b[0m\u001b[0;34m\u001b[0m\u001b[0;34m\u001b[0m\u001b[0m\n",
            "\u001b[0;32m/usr/local/lib/python3.8/dist-packages/pandas/io/parsers/c_parser_wrapper.py\u001b[0m in \u001b[0;36m__init__\u001b[0;34m(self, src, **kwds)\u001b[0m\n\u001b[1;32m     49\u001b[0m \u001b[0;34m\u001b[0m\u001b[0m\n\u001b[1;32m     50\u001b[0m         \u001b[0;31m# open handles\u001b[0m\u001b[0;34m\u001b[0m\u001b[0;34m\u001b[0m\u001b[0;34m\u001b[0m\u001b[0m\n\u001b[0;32m---> 51\u001b[0;31m         \u001b[0mself\u001b[0m\u001b[0;34m.\u001b[0m\u001b[0m_open_handles\u001b[0m\u001b[0;34m(\u001b[0m\u001b[0msrc\u001b[0m\u001b[0;34m,\u001b[0m \u001b[0mkwds\u001b[0m\u001b[0;34m)\u001b[0m\u001b[0;34m\u001b[0m\u001b[0;34m\u001b[0m\u001b[0m\n\u001b[0m\u001b[1;32m     52\u001b[0m         \u001b[0;32massert\u001b[0m \u001b[0mself\u001b[0m\u001b[0;34m.\u001b[0m\u001b[0mhandles\u001b[0m \u001b[0;32mis\u001b[0m \u001b[0;32mnot\u001b[0m \u001b[0;32mNone\u001b[0m\u001b[0;34m\u001b[0m\u001b[0;34m\u001b[0m\u001b[0m\n\u001b[1;32m     53\u001b[0m \u001b[0;34m\u001b[0m\u001b[0m\n",
            "\u001b[0;32m/usr/local/lib/python3.8/dist-packages/pandas/io/parsers/base_parser.py\u001b[0m in \u001b[0;36m_open_handles\u001b[0;34m(self, src, kwds)\u001b[0m\n\u001b[1;32m    220\u001b[0m         \u001b[0mLet\u001b[0m \u001b[0mthe\u001b[0m \u001b[0mreaders\u001b[0m \u001b[0mopen\u001b[0m \u001b[0mIOHandles\u001b[0m \u001b[0mafter\u001b[0m \u001b[0mthey\u001b[0m \u001b[0mare\u001b[0m \u001b[0mdone\u001b[0m \u001b[0;32mwith\u001b[0m \u001b[0mtheir\u001b[0m \u001b[0mpotential\u001b[0m \u001b[0mraises\u001b[0m\u001b[0;34m.\u001b[0m\u001b[0;34m\u001b[0m\u001b[0;34m\u001b[0m\u001b[0m\n\u001b[1;32m    221\u001b[0m         \"\"\"\n\u001b[0;32m--> 222\u001b[0;31m         self.handles = get_handle(\n\u001b[0m\u001b[1;32m    223\u001b[0m             \u001b[0msrc\u001b[0m\u001b[0;34m,\u001b[0m\u001b[0;34m\u001b[0m\u001b[0;34m\u001b[0m\u001b[0m\n\u001b[1;32m    224\u001b[0m             \u001b[0;34m\"r\"\u001b[0m\u001b[0;34m,\u001b[0m\u001b[0;34m\u001b[0m\u001b[0;34m\u001b[0m\u001b[0m\n",
            "\u001b[0;32m/usr/local/lib/python3.8/dist-packages/pandas/io/common.py\u001b[0m in \u001b[0;36mget_handle\u001b[0;34m(path_or_buf, mode, encoding, compression, memory_map, is_text, errors, storage_options)\u001b[0m\n\u001b[1;32m    700\u001b[0m         \u001b[0;32mif\u001b[0m \u001b[0mioargs\u001b[0m\u001b[0;34m.\u001b[0m\u001b[0mencoding\u001b[0m \u001b[0;32mand\u001b[0m \u001b[0;34m\"b\"\u001b[0m \u001b[0;32mnot\u001b[0m \u001b[0;32min\u001b[0m \u001b[0mioargs\u001b[0m\u001b[0;34m.\u001b[0m\u001b[0mmode\u001b[0m\u001b[0;34m:\u001b[0m\u001b[0;34m\u001b[0m\u001b[0;34m\u001b[0m\u001b[0m\n\u001b[1;32m    701\u001b[0m             \u001b[0;31m# Encoding\u001b[0m\u001b[0;34m\u001b[0m\u001b[0;34m\u001b[0m\u001b[0;34m\u001b[0m\u001b[0m\n\u001b[0;32m--> 702\u001b[0;31m             handle = open(\n\u001b[0m\u001b[1;32m    703\u001b[0m                 \u001b[0mhandle\u001b[0m\u001b[0;34m,\u001b[0m\u001b[0;34m\u001b[0m\u001b[0;34m\u001b[0m\u001b[0m\n\u001b[1;32m    704\u001b[0m                 \u001b[0mioargs\u001b[0m\u001b[0;34m.\u001b[0m\u001b[0mmode\u001b[0m\u001b[0;34m,\u001b[0m\u001b[0;34m\u001b[0m\u001b[0;34m\u001b[0m\u001b[0m\n",
            "\u001b[0;31mFileNotFoundError\u001b[0m: [Errno 2] No such file or directory: '/content/drive/MyDrive/OneGA/t1_20220101_20220726_rg_201589066.csv'"
          ]
        }
      ]
    },
    {
      "cell_type": "code",
      "source": [
        "y = df_1.iloc[:,14].astype(str)    #target column\n",
        "#for i in y:\n",
        "#y[i] = y[i].apply(str)\n",
        "y = y.apply(str)\n",
        "print(y)\n",
        "#y.head()\n",
        "#display(y)\n",
        "#print(y.dtype)"
      ],
      "metadata": {
        "colab": {
          "base_uri": "https://localhost:8080/"
        },
        "id": "dI-TPfocmSPu",
        "outputId": "ec097a6b-61a8-473c-c86e-d08b2caea1e1"
      },
      "execution_count": null,
      "outputs": [
        {
          "output_type": "stream",
          "name": "stdout",
          "text": [
            "0          []\n",
            "1          []\n",
            "2          []\n",
            "3         [0]\n",
            "4          []\n",
            "         ... \n",
            "361914    [0]\n",
            "361915     []\n",
            "361916     []\n",
            "361917     []\n",
            "361918     []\n",
            "Name: ym:s:goalsPrice, Length: 361919, dtype: object\n"
          ]
        }
      ]
    },
    {
      "cell_type": "code",
      "source": [
        "list123 = [0, 1, 2, 3, 4, 5, 6]\n",
        "\n",
        "for i in list123:\n",
        "  print(y[i])"
      ],
      "metadata": {
        "colab": {
          "base_uri": "https://localhost:8080/"
        },
        "id": "V1MM_kMtaW09",
        "outputId": "d1517d0a-f2a9-402f-df5b-63da2ca718bb"
      },
      "execution_count": null,
      "outputs": [
        {
          "output_type": "stream",
          "name": "stdout",
          "text": [
            "[]\n",
            "[]\n",
            "[]\n",
            "[0]\n",
            "[]\n",
            "[]\n",
            "[]\n"
          ]
        }
      ]
    },
    {
      "cell_type": "code",
      "source": [
        "y = y.str.contains('201589066').map({True: 1, False: 0}) # map each value in the column to 0 or 1\n",
        "print(y.unique())"
      ],
      "metadata": {
        "id": "RTcMQe5VbHOQ"
      },
      "execution_count": null,
      "outputs": []
    },
    {
      "cell_type": "code",
      "source": [
        "cols_number = 6\n",
        "print(cols_number)\n",
        "cols = ['ym:s:browser', 'ym:s:browserCountry', 'ym:s:browserLanguage', 'ym:s:date', 'ym:s:endURL', 'ym:s:firstGCLID', 'ym:s:goalsDateTime', 'ym:s:goalsID', 'ym:s:goalsPrice', 'ym:s:goalsSerialNumber', 'ym:s:hasGCLID', 'ym:s:impressionsProductCoupon', 'ym:s:ipAddress', 'ym:s:isNewUser', 'ym:s:javascriptEnabled', 'ym:s:lastAdvEngine', 'ym:s:lastClickBannerGroupName', 'ym:s:lastDirectBannerGroup', 'ym:s:lastDirectClickBanner', 'ym:s:lastDirectClickBannerName', 'ym:s:lastDirectClickOrder', 'ym:s:lastDirectClickOrderName', 'ym:s:lastDirectConditionType', 'ym:s:lastDirectPhraseOrCond', 'ym:s:lastDirectPlatform', 'ym:s:lastDirectPlatformType', 'ym:s:lastGCLID', 'ym:s:lastReferalSource', 'ym:s:lastSearchEngine', 'ym:s:lastSearchEngineRoot', 'ym:s:lastSignificantGCLID', 'ym:s:lastSocialNetwork', 'ym:s:lastSocialNetworkProfile', 'ym:s:lastTrafficSource', 'ym:s:mobilePhone', 'ym:s:networkType', 'ym:s:offlineCallFirstTimeCaller', 'ym:s:offlineCallHoldDuration', 'ym:s:offlineCallMissed', 'ym:s:offlineCallTag', 'ym:s:offlineCallTalkDuration', 'ym:s:offlineCallURL', 'ym:s:openstatAd', 'ym:s:openstatCampaign', 'ym:s:openstatService', 'ym:s:openstatSource', 'ym:s:pageViews', 'ym:s:referer', 'ym:s:regionCity', 'ym:s:screenHeight', 'ym:s:screenOrientation', 'ym:s:screenWidth', 'ym:s:startURL', 'ym:s:UTMCampaign', 'ym:s:UTMContent', 'ym:s:UTMMedium', 'ym:s:UTMSource', 'ym:s:UTMTerm', 'ym:s:visitDuration', 'ym:s:visitID', 'ym:s:watchIDs']\n",
        "#, 'ym:s:from'\n",
        "len(cols)"
      ],
      "metadata": {
        "colab": {
          "base_uri": "https://localhost:8080/"
        },
        "id": "GvYskbJ_GNJm",
        "outputId": "c0d00280-3b5e-40f2-c8da-5f51216c7832"
      },
      "execution_count": null,
      "outputs": [
        {
          "output_type": "stream",
          "name": "stdout",
          "text": [
            "6\n"
          ]
        },
        {
          "output_type": "execute_result",
          "data": {
            "text/plain": [
              "61"
            ]
          },
          "metadata": {},
          "execution_count": 4
        }
      ]
    },
    {
      "cell_type": "code",
      "source": [
        "#df_1[6] = df_1[6].str.contains('newsapp').map({True: 1, False: 0}) # map each value in the column to 0 or 1\n",
        "# Создаем объект label_encoder\n",
        "cols = ['ym:s:browser', 'ym:s:browserCountry', 'ym:s:browserLanguage', 'ym:s:date', 'ym:s:endURL', 'ym:s:firstGCLID', 'ym:s:goalsDateTime', 'ym:s:goalsID', 'ym:s:goalsPrice', 'ym:s:goalsSerialNumber', 'ym:s:hasGCLID', 'ym:s:impressionsProductCoupon', 'ym:s:ipAddress', 'ym:s:isNewUser', 'ym:s:javascriptEnabled', 'ym:s:lastAdvEngine', 'ym:s:lastClickBannerGroupName', 'ym:s:lastDirectBannerGroup', 'ym:s:lastDirectClickBanner', 'ym:s:lastDirectClickBannerName', 'ym:s:lastDirectClickOrder', 'ym:s:lastDirectClickOrderName', 'ym:s:lastDirectConditionType', 'ym:s:lastDirectPhraseOrCond', 'ym:s:lastDirectPlatform', 'ym:s:lastDirectPlatformType', 'ym:s:lastGCLID', 'ym:s:lastReferalSource', 'ym:s:lastSearchEngine', 'ym:s:lastSearchEngineRoot', 'ym:s:lastSignificantGCLID', 'ym:s:lastSocialNetwork', 'ym:s:lastSocialNetworkProfile', 'ym:s:lastTrafficSource', 'ym:s:mobilePhone', 'ym:s:networkType', 'ym:s:offlineCallFirstTimeCaller', 'ym:s:offlineCallHoldDuration', 'ym:s:offlineCallMissed', 'ym:s:offlineCallTag', 'ym:s:offlineCallTalkDuration', 'ym:s:offlineCallURL', 'ym:s:openstatAd', 'ym:s:openstatCampaign', 'ym:s:openstatService', 'ym:s:openstatSource', 'ym:s:pageViews', 'ym:s:referer', 'ym:s:regionCity', 'ym:s:screenHeight', 'ym:s:screenOrientation', 'ym:s:screenWidth', 'ym:s:startURL', 'ym:s:UTMCampaign', 'ym:s:UTMContent', 'ym:s:UTMMedium', 'ym:s:UTMSource', 'ym:s:UTMTerm', 'ym:s:visitDuration', 'ym:s:visitID', 'ym:s:watchIDs']\n",
        "#, 'ym:s:from'\n",
        "#cols1 = cols[cols_number]\n",
        "#print(cols_number)\n",
        "#print(cols1)\n",
        "cols_list = [0, 1, 2, 3, 4, 5, 6, 7, 8, 9, 10, 11, 12, 13, 14, 15, 16, 17, 18, 19, 20, 21, 22, 23, 24, 25, 26, 27, 28, 29]\n",
        "#, 30\n",
        "for cols123 in cols_list:\n",
        "  a123 = cols[cols123]\n",
        "  df_1[a123]= label_encoder.fit_transform(df_1[a123])\n",
        "  print(cols123)\n",
        "  print(a123)\n",
        "\n",
        "# Часть настроенная\n",
        "#a = 'ym:s:from'\n",
        "#df_1 = df_1.drop(columns=a)\n",
        "#b = 'ym:s:lastSignificantGCLID'\n",
        "#df_1 = df_1.drop(columns=b)\n",
        "\n",
        "df_1.head(2)\n"
      ],
      "metadata": {
        "id": "PhPznWMBM92j"
      },
      "execution_count": null,
      "outputs": []
    },
    {
      "cell_type": "code",
      "source": [
        "# b123 = cols[6]\n",
        "#  df_1[a123]= label_encoder.fit_transform(df_1[a123])"
      ],
      "metadata": {
        "id": "YuUqIEo5TgAZ"
      },
      "execution_count": null,
      "outputs": []
    },
    {
      "cell_type": "code",
      "source": [
        "df_1.info()"
      ],
      "metadata": {
        "colab": {
          "base_uri": "https://localhost:8080/"
        },
        "id": "TJDDZM3aa1Pc",
        "outputId": "0b9ebdfb-ac1f-47e4-c987-79f6bced5bb2"
      },
      "execution_count": null,
      "outputs": [
        {
          "output_type": "stream",
          "name": "stdout",
          "text": [
            "<class 'pandas.core.frame.DataFrame'>\n",
            "Int64Index: 361919 entries, 0 to 361918\n",
            "Data columns (total 67 columns):\n",
            " #   Column                           Non-Null Count   Dtype  \n",
            "---  ------                           --------------   -----  \n",
            " 0   Unnamed: 0.1                     361919 non-null  int64  \n",
            " 1   ym:s:bounce                      361919 non-null  int64  \n",
            " 2   ym:s:browser                     361919 non-null  int64  \n",
            " 3   ym:s:browserCountry              361919 non-null  int64  \n",
            " 4   ym:s:browserLanguage             361919 non-null  int64  \n",
            " 5   ym:s:clientID                    361919 non-null  uint64 \n",
            " 6   ym:s:cookieEnabled               361919 non-null  int64  \n",
            " 7   ym:s:date                        361919 non-null  int64  \n",
            " 8   ym:s:deviceCategory              361919 non-null  int64  \n",
            " 9   ym:s:endURL                      361919 non-null  int64  \n",
            " 10  ym:s:firstGCLID                  361919 non-null  int64  \n",
            " 11  ym:s:from                        19 non-null      object \n",
            " 12  ym:s:goalsDateTime               361919 non-null  int64  \n",
            " 13  ym:s:goalsID                     361919 non-null  int64  \n",
            " 14  ym:s:goalsPrice                  361919 non-null  int64  \n",
            " 15  ym:s:goalsSerialNumber           361919 non-null  int64  \n",
            " 16  ym:s:hasGCLID                    361919 non-null  int64  \n",
            " 17  ym:s:impressionsProductCoupon    361919 non-null  int64  \n",
            " 18  ym:s:ipAddress                   361919 non-null  int64  \n",
            " 19  ym:s:isNewUser                   361919 non-null  int64  \n",
            " 20  ym:s:javascriptEnabled           361919 non-null  int64  \n",
            " 21  ym:s:lastAdvEngine               361919 non-null  int64  \n",
            " 22  ym:s:lastClickBannerGroupName    361919 non-null  int64  \n",
            " 23  ym:s:lastDirectBannerGroup       361919 non-null  int64  \n",
            " 24  ym:s:lastDirectClickBanner       361919 non-null  int64  \n",
            " 25  ym:s:lastDirectClickBannerName   361919 non-null  int64  \n",
            " 26  ym:s:lastDirectClickOrder        361919 non-null  int64  \n",
            " 27  ym:s:lastDirectClickOrderName    361919 non-null  int64  \n",
            " 28  ym:s:lastDirectConditionType     361919 non-null  int64  \n",
            " 29  ym:s:lastDirectPhraseOrCond      361919 non-null  int64  \n",
            " 30  ym:s:lastDirectPlatform          361919 non-null  int64  \n",
            " 31  ym:s:lastDirectPlatformType      361919 non-null  int64  \n",
            " 32  ym:s:lastGCLID                   361919 non-null  int64  \n",
            " 33  ym:s:lastReferalSource           361919 non-null  int64  \n",
            " 34  ym:s:lastSearchEngine            361919 non-null  int64  \n",
            " 35  ym:s:lastSearchEngineRoot        361919 non-null  int64  \n",
            " 36  ym:s:lastSignificantGCLID        16277 non-null   object \n",
            " 37  ym:s:lastSocialNetwork           3633 non-null    object \n",
            " 38  ym:s:lastSocialNetworkProfile    14 non-null      object \n",
            " 39  ym:s:lastTrafficSource           361919 non-null  object \n",
            " 40  ym:s:mobilePhone                 233489 non-null  object \n",
            " 41  ym:s:networkType                 156384 non-null  object \n",
            " 42  ym:s:offlineCallFirstTimeCaller  361919 non-null  object \n",
            " 43  ym:s:offlineCallHoldDuration     361919 non-null  object \n",
            " 44  ym:s:offlineCallMissed           361919 non-null  object \n",
            " 45  ym:s:offlineCallTag              361919 non-null  object \n",
            " 46  ym:s:offlineCallTalkDuration     361919 non-null  object \n",
            " 47  ym:s:offlineCallURL              361919 non-null  object \n",
            " 48  ym:s:openstatAd                  5 non-null       float64\n",
            " 49  ym:s:openstatCampaign            5 non-null       float64\n",
            " 50  ym:s:openstatService             5 non-null       object \n",
            " 51  ym:s:openstatSource              5 non-null       object \n",
            " 52  ym:s:pageViews                   361919 non-null  int64  \n",
            " 53  ym:s:referer                     119796 non-null  object \n",
            " 54  ym:s:regionCity                  305008 non-null  object \n",
            " 55  ym:s:screenHeight                361919 non-null  int64  \n",
            " 56  ym:s:screenOrientation           361919 non-null  int64  \n",
            " 57  ym:s:screenWidth                 361919 non-null  int64  \n",
            " 58  ym:s:startURL                    361919 non-null  object \n",
            " 59  ym:s:UTMCampaign                 269923 non-null  object \n",
            " 60  ym:s:UTMContent                  268927 non-null  object \n",
            " 61  ym:s:UTMMedium                   272759 non-null  object \n",
            " 62  ym:s:UTMSource                   273423 non-null  object \n",
            " 63  ym:s:UTMTerm                     202764 non-null  object \n",
            " 64  ym:s:visitDuration               361919 non-null  int64  \n",
            " 65  ym:s:visitID                     361919 non-null  uint64 \n",
            " 66  ym:s:watchIDs                    361919 non-null  object \n",
            "dtypes: float64(2), int64(39), object(24), uint64(2)\n",
            "memory usage: 187.8+ MB\n"
          ]
        }
      ]
    },
    {
      "cell_type": "code",
      "source": [
        "df_1.to_csv('/content/drive/My Drive/df_5.csv')\n",
        "#print(datetime.now())\n",
        "#print(cols_number)\n",
        "\n",
        "print(df_1['ym:s:browser'].unique())\n",
        "print(df_1.columns[2])"
      ],
      "metadata": {
        "id": "JGfhXLJSJg11",
        "colab": {
          "base_uri": "https://localhost:8080/"
        },
        "outputId": "26cf2d1d-1c36-4fc9-fa68-037b7d4e3de6"
      },
      "execution_count": null,
      "outputs": [
        {
          "output_type": "stream",
          "name": "stdout",
          "text": [
            "[ 5 48 36  6 23 45 35 37  1 11 15 19 49 17 30 26 28  2 16 18 43 29 27 31\n",
            " 40 46 44 24 34  0 42  8 10  3 39 22  9  7 32 38  4 41 47 25 14 21 13 33\n",
            " 20 12]\n",
            "ym:s:browser\n"
          ]
        }
      ]
    },
    {
      "cell_type": "markdown",
      "source": [
        "# Продолжение"
      ],
      "metadata": {
        "id": "UtyM6GmoO-3I"
      }
    },
    {
      "cell_type": "code",
      "source": [
        "df_1.info()"
      ],
      "metadata": {
        "colab": {
          "base_uri": "https://localhost:8080/"
        },
        "id": "ocLgCOw7j4FS",
        "outputId": "4b743e78-eac8-4951-ef59-975dc58ddd2e"
      },
      "execution_count": null,
      "outputs": [
        {
          "output_type": "stream",
          "name": "stdout",
          "text": [
            "<class 'pandas.core.frame.DataFrame'>\n",
            "Int64Index: 361919 entries, 0 to 361918\n",
            "Data columns (total 65 columns):\n",
            " #   Column                           Non-Null Count   Dtype  \n",
            "---  ------                           --------------   -----  \n",
            " 0   Unnamed: 0.1                     361919 non-null  int64  \n",
            " 1   ym:s:bounce                      361919 non-null  int64  \n",
            " 2   ym:s:browser                     361919 non-null  int64  \n",
            " 3   ym:s:browserCountry              361919 non-null  int64  \n",
            " 4   ym:s:browserLanguage             361919 non-null  int64  \n",
            " 5   ym:s:cookieEnabled               361919 non-null  int64  \n",
            " 6   ym:s:date                        361919 non-null  int64  \n",
            " 7   ym:s:deviceCategory              361919 non-null  int64  \n",
            " 8   ym:s:endURL                      361919 non-null  int64  \n",
            " 9   ym:s:firstGCLID                  361919 non-null  int64  \n",
            " 10  ym:s:goalsDateTime               361919 non-null  int64  \n",
            " 11  ym:s:goalsID                     361919 non-null  int64  \n",
            " 12  ym:s:goalsPrice                  361919 non-null  int64  \n",
            " 13  ym:s:goalsSerialNumber           361919 non-null  int64  \n",
            " 14  ym:s:hasGCLID                    361919 non-null  int64  \n",
            " 15  ym:s:impressionsProductCoupon    361919 non-null  int64  \n",
            " 16  ym:s:ipAddress                   361919 non-null  int64  \n",
            " 17  ym:s:isNewUser                   361919 non-null  int64  \n",
            " 18  ym:s:javascriptEnabled           361919 non-null  int64  \n",
            " 19  ym:s:lastAdvEngine               361919 non-null  int64  \n",
            " 20  ym:s:lastClickBannerGroupName    361919 non-null  int64  \n",
            " 21  ym:s:lastDirectBannerGroup       361919 non-null  int64  \n",
            " 22  ym:s:lastDirectClickBanner       361919 non-null  int64  \n",
            " 23  ym:s:lastDirectClickBannerName   361919 non-null  int64  \n",
            " 24  ym:s:lastDirectClickOrder        361919 non-null  int64  \n",
            " 25  ym:s:lastDirectClickOrderName    361919 non-null  int64  \n",
            " 26  ym:s:lastDirectConditionType     361919 non-null  int64  \n",
            " 27  ym:s:lastDirectPhraseOrCond      361919 non-null  int64  \n",
            " 28  ym:s:lastDirectPlatform          361919 non-null  int64  \n",
            " 29  ym:s:lastDirectPlatformType      361919 non-null  int64  \n",
            " 30  ym:s:lastGCLID                   361919 non-null  int64  \n",
            " 31  ym:s:lastReferalSource           361919 non-null  int64  \n",
            " 32  ym:s:lastSearchEngine            361919 non-null  int64  \n",
            " 33  ym:s:lastSearchEngineRoot        361919 non-null  int64  \n",
            " 34  ym:s:lastSignificantGCLID        16277 non-null   object \n",
            " 35  ym:s:lastSocialNetwork           3633 non-null    object \n",
            " 36  ym:s:lastSocialNetworkProfile    14 non-null      object \n",
            " 37  ym:s:lastTrafficSource           361919 non-null  object \n",
            " 38  ym:s:mobilePhone                 233489 non-null  object \n",
            " 39  ym:s:networkType                 156384 non-null  object \n",
            " 40  ym:s:offlineCallFirstTimeCaller  361919 non-null  object \n",
            " 41  ym:s:offlineCallHoldDuration     361919 non-null  object \n",
            " 42  ym:s:offlineCallMissed           361919 non-null  object \n",
            " 43  ym:s:offlineCallTag              361919 non-null  object \n",
            " 44  ym:s:offlineCallTalkDuration     361919 non-null  object \n",
            " 45  ym:s:offlineCallURL              361919 non-null  object \n",
            " 46  ym:s:openstatAd                  5 non-null       float64\n",
            " 47  ym:s:openstatCampaign            5 non-null       float64\n",
            " 48  ym:s:openstatService             5 non-null       object \n",
            " 49  ym:s:openstatSource              5 non-null       object \n",
            " 50  ym:s:pageViews                   361919 non-null  int64  \n",
            " 51  ym:s:referer                     119796 non-null  object \n",
            " 52  ym:s:regionCity                  305008 non-null  object \n",
            " 53  ym:s:screenHeight                361919 non-null  int64  \n",
            " 54  ym:s:screenOrientation           361919 non-null  int64  \n",
            " 55  ym:s:screenWidth                 361919 non-null  int64  \n",
            " 56  ym:s:startURL                    361919 non-null  object \n",
            " 57  ym:s:UTMCampaign                 269923 non-null  object \n",
            " 58  ym:s:UTMContent                  268927 non-null  object \n",
            " 59  ym:s:UTMMedium                   272759 non-null  object \n",
            " 60  ym:s:UTMSource                   273423 non-null  object \n",
            " 61  ym:s:UTMTerm                     202764 non-null  object \n",
            " 62  ym:s:visitDuration               361919 non-null  int64  \n",
            " 63  ym:s:visitID                     361919 non-null  uint64 \n",
            " 64  ym:s:watchIDs                    361919 non-null  object \n",
            "dtypes: float64(2), int64(39), object(23), uint64(1)\n",
            "memory usage: 190.3+ MB\n"
          ]
        }
      ]
    },
    {
      "cell_type": "code",
      "source": [
        "#x_1 = df_1.iloc[:,0:13]  #independent columns\n",
        "#y = df_1.iloc[:,13].astype(str)    #target column\n",
        "#z_1 = df_1.iloc[:,14:] \n",
        "#print(type(y[0]))\n",
        "#display(y)\n",
        "#y = y.str.contains('201589066').map({True: 1, False: 0}) # map each value in the column to 0 or 1\n",
        "#display(y)\n",
        "#X = pd.concat([x_1, z_1], axis=1)\n",
        "\n",
        "#a = 'ym:s:from'\n",
        "#df_1 = df_1.drop(columns=a)\n",
        "#d = 'ym:s:clientID'\n",
        "#df_1 = df_1.drop(columns=d)\n",
        "\n",
        "x_1 = df_1.iloc[:,0:12]  #independent columns\n",
        "#y = df_1.iloc[:,12].astype(str)    #target column    переносим в начало\n",
        "z_1 = df_1.iloc[:,13:33] \n",
        "print(type(y[0]))\n",
        "display(y)\n",
        "#y = y.str.contains('201589066').map({True: 1, False: 0}) # map each value in the column to 0 or 1   переносим в начало\n",
        "display(y)\n",
        "X = pd.concat([x_1, z_1], axis=1)"
      ],
      "metadata": {
        "colab": {
          "base_uri": "https://localhost:8080/",
          "height": 381
        },
        "id": "UGz5p3XjD2nB",
        "outputId": "dc81546a-22dc-4ec4-ff67-ec0bec830b25"
      },
      "execution_count": null,
      "outputs": [
        {
          "output_type": "error",
          "ename": "KeyError",
          "evalue": "ignored",
          "traceback": [
            "\u001b[0;31m---------------------------------------------------------------------------\u001b[0m",
            "\u001b[0;31mKeyError\u001b[0m                                  Traceback (most recent call last)",
            "\u001b[0;32m<ipython-input-20-336887c7f6d3>\u001b[0m in \u001b[0;36m<module>\u001b[0;34m\u001b[0m\n\u001b[1;32m      9\u001b[0m \u001b[0;34m\u001b[0m\u001b[0m\n\u001b[1;32m     10\u001b[0m \u001b[0ma\u001b[0m \u001b[0;34m=\u001b[0m \u001b[0;34m'ym:s:from'\u001b[0m\u001b[0;34m\u001b[0m\u001b[0;34m\u001b[0m\u001b[0m\n\u001b[0;32m---> 11\u001b[0;31m \u001b[0mdf_1\u001b[0m \u001b[0;34m=\u001b[0m \u001b[0mdf_1\u001b[0m\u001b[0;34m.\u001b[0m\u001b[0mdrop\u001b[0m\u001b[0;34m(\u001b[0m\u001b[0mcolumns\u001b[0m\u001b[0;34m=\u001b[0m\u001b[0ma\u001b[0m\u001b[0;34m)\u001b[0m\u001b[0;34m\u001b[0m\u001b[0;34m\u001b[0m\u001b[0m\n\u001b[0m\u001b[1;32m     12\u001b[0m \u001b[0md\u001b[0m \u001b[0;34m=\u001b[0m \u001b[0;34m'ym:s:clientID'\u001b[0m\u001b[0;34m\u001b[0m\u001b[0;34m\u001b[0m\u001b[0m\n\u001b[1;32m     13\u001b[0m \u001b[0mdf_1\u001b[0m \u001b[0;34m=\u001b[0m \u001b[0mdf_1\u001b[0m\u001b[0;34m.\u001b[0m\u001b[0mdrop\u001b[0m\u001b[0;34m(\u001b[0m\u001b[0mcolumns\u001b[0m\u001b[0;34m=\u001b[0m\u001b[0md\u001b[0m\u001b[0;34m)\u001b[0m\u001b[0;34m\u001b[0m\u001b[0;34m\u001b[0m\u001b[0m\n",
            "\u001b[0;32m/usr/local/lib/python3.8/dist-packages/pandas/util/_decorators.py\u001b[0m in \u001b[0;36mwrapper\u001b[0;34m(*args, **kwargs)\u001b[0m\n\u001b[1;32m    309\u001b[0m                     \u001b[0mstacklevel\u001b[0m\u001b[0;34m=\u001b[0m\u001b[0mstacklevel\u001b[0m\u001b[0;34m,\u001b[0m\u001b[0;34m\u001b[0m\u001b[0;34m\u001b[0m\u001b[0m\n\u001b[1;32m    310\u001b[0m                 )\n\u001b[0;32m--> 311\u001b[0;31m             \u001b[0;32mreturn\u001b[0m \u001b[0mfunc\u001b[0m\u001b[0;34m(\u001b[0m\u001b[0;34m*\u001b[0m\u001b[0margs\u001b[0m\u001b[0;34m,\u001b[0m \u001b[0;34m**\u001b[0m\u001b[0mkwargs\u001b[0m\u001b[0;34m)\u001b[0m\u001b[0;34m\u001b[0m\u001b[0;34m\u001b[0m\u001b[0m\n\u001b[0m\u001b[1;32m    312\u001b[0m \u001b[0;34m\u001b[0m\u001b[0m\n\u001b[1;32m    313\u001b[0m         \u001b[0;32mreturn\u001b[0m \u001b[0mwrapper\u001b[0m\u001b[0;34m\u001b[0m\u001b[0;34m\u001b[0m\u001b[0m\n",
            "\u001b[0;32m/usr/local/lib/python3.8/dist-packages/pandas/core/frame.py\u001b[0m in \u001b[0;36mdrop\u001b[0;34m(self, labels, axis, index, columns, level, inplace, errors)\u001b[0m\n\u001b[1;32m   4904\u001b[0m                 \u001b[0mweight\u001b[0m  \u001b[0;36m1.0\u001b[0m     \u001b[0;36m0.8\u001b[0m\u001b[0;34m\u001b[0m\u001b[0;34m\u001b[0m\u001b[0m\n\u001b[1;32m   4905\u001b[0m         \"\"\"\n\u001b[0;32m-> 4906\u001b[0;31m         return super().drop(\n\u001b[0m\u001b[1;32m   4907\u001b[0m             \u001b[0mlabels\u001b[0m\u001b[0;34m=\u001b[0m\u001b[0mlabels\u001b[0m\u001b[0;34m,\u001b[0m\u001b[0;34m\u001b[0m\u001b[0;34m\u001b[0m\u001b[0m\n\u001b[1;32m   4908\u001b[0m             \u001b[0maxis\u001b[0m\u001b[0;34m=\u001b[0m\u001b[0maxis\u001b[0m\u001b[0;34m,\u001b[0m\u001b[0;34m\u001b[0m\u001b[0;34m\u001b[0m\u001b[0m\n",
            "\u001b[0;32m/usr/local/lib/python3.8/dist-packages/pandas/core/generic.py\u001b[0m in \u001b[0;36mdrop\u001b[0;34m(self, labels, axis, index, columns, level, inplace, errors)\u001b[0m\n\u001b[1;32m   4148\u001b[0m         \u001b[0;32mfor\u001b[0m \u001b[0maxis\u001b[0m\u001b[0;34m,\u001b[0m \u001b[0mlabels\u001b[0m \u001b[0;32min\u001b[0m \u001b[0maxes\u001b[0m\u001b[0;34m.\u001b[0m\u001b[0mitems\u001b[0m\u001b[0;34m(\u001b[0m\u001b[0;34m)\u001b[0m\u001b[0;34m:\u001b[0m\u001b[0;34m\u001b[0m\u001b[0;34m\u001b[0m\u001b[0m\n\u001b[1;32m   4149\u001b[0m             \u001b[0;32mif\u001b[0m \u001b[0mlabels\u001b[0m \u001b[0;32mis\u001b[0m \u001b[0;32mnot\u001b[0m \u001b[0;32mNone\u001b[0m\u001b[0;34m:\u001b[0m\u001b[0;34m\u001b[0m\u001b[0;34m\u001b[0m\u001b[0m\n\u001b[0;32m-> 4150\u001b[0;31m                 \u001b[0mobj\u001b[0m \u001b[0;34m=\u001b[0m \u001b[0mobj\u001b[0m\u001b[0;34m.\u001b[0m\u001b[0m_drop_axis\u001b[0m\u001b[0;34m(\u001b[0m\u001b[0mlabels\u001b[0m\u001b[0;34m,\u001b[0m \u001b[0maxis\u001b[0m\u001b[0;34m,\u001b[0m \u001b[0mlevel\u001b[0m\u001b[0;34m=\u001b[0m\u001b[0mlevel\u001b[0m\u001b[0;34m,\u001b[0m \u001b[0merrors\u001b[0m\u001b[0;34m=\u001b[0m\u001b[0merrors\u001b[0m\u001b[0;34m)\u001b[0m\u001b[0;34m\u001b[0m\u001b[0;34m\u001b[0m\u001b[0m\n\u001b[0m\u001b[1;32m   4151\u001b[0m \u001b[0;34m\u001b[0m\u001b[0m\n\u001b[1;32m   4152\u001b[0m         \u001b[0;32mif\u001b[0m \u001b[0minplace\u001b[0m\u001b[0;34m:\u001b[0m\u001b[0;34m\u001b[0m\u001b[0;34m\u001b[0m\u001b[0m\n",
            "\u001b[0;32m/usr/local/lib/python3.8/dist-packages/pandas/core/generic.py\u001b[0m in \u001b[0;36m_drop_axis\u001b[0;34m(self, labels, axis, level, errors)\u001b[0m\n\u001b[1;32m   4183\u001b[0m                 \u001b[0mnew_axis\u001b[0m \u001b[0;34m=\u001b[0m \u001b[0maxis\u001b[0m\u001b[0;34m.\u001b[0m\u001b[0mdrop\u001b[0m\u001b[0;34m(\u001b[0m\u001b[0mlabels\u001b[0m\u001b[0;34m,\u001b[0m \u001b[0mlevel\u001b[0m\u001b[0;34m=\u001b[0m\u001b[0mlevel\u001b[0m\u001b[0;34m,\u001b[0m \u001b[0merrors\u001b[0m\u001b[0;34m=\u001b[0m\u001b[0merrors\u001b[0m\u001b[0;34m)\u001b[0m\u001b[0;34m\u001b[0m\u001b[0;34m\u001b[0m\u001b[0m\n\u001b[1;32m   4184\u001b[0m             \u001b[0;32melse\u001b[0m\u001b[0;34m:\u001b[0m\u001b[0;34m\u001b[0m\u001b[0;34m\u001b[0m\u001b[0m\n\u001b[0;32m-> 4185\u001b[0;31m                 \u001b[0mnew_axis\u001b[0m \u001b[0;34m=\u001b[0m \u001b[0maxis\u001b[0m\u001b[0;34m.\u001b[0m\u001b[0mdrop\u001b[0m\u001b[0;34m(\u001b[0m\u001b[0mlabels\u001b[0m\u001b[0;34m,\u001b[0m \u001b[0merrors\u001b[0m\u001b[0;34m=\u001b[0m\u001b[0merrors\u001b[0m\u001b[0;34m)\u001b[0m\u001b[0;34m\u001b[0m\u001b[0;34m\u001b[0m\u001b[0m\n\u001b[0m\u001b[1;32m   4186\u001b[0m             \u001b[0mresult\u001b[0m \u001b[0;34m=\u001b[0m \u001b[0mself\u001b[0m\u001b[0;34m.\u001b[0m\u001b[0mreindex\u001b[0m\u001b[0;34m(\u001b[0m\u001b[0;34m**\u001b[0m\u001b[0;34m{\u001b[0m\u001b[0maxis_name\u001b[0m\u001b[0;34m:\u001b[0m \u001b[0mnew_axis\u001b[0m\u001b[0;34m}\u001b[0m\u001b[0;34m)\u001b[0m\u001b[0;34m\u001b[0m\u001b[0;34m\u001b[0m\u001b[0m\n\u001b[1;32m   4187\u001b[0m \u001b[0;34m\u001b[0m\u001b[0m\n",
            "\u001b[0;32m/usr/local/lib/python3.8/dist-packages/pandas/core/indexes/base.py\u001b[0m in \u001b[0;36mdrop\u001b[0;34m(self, labels, errors)\u001b[0m\n\u001b[1;32m   6015\u001b[0m         \u001b[0;32mif\u001b[0m \u001b[0mmask\u001b[0m\u001b[0;34m.\u001b[0m\u001b[0many\u001b[0m\u001b[0;34m(\u001b[0m\u001b[0;34m)\u001b[0m\u001b[0;34m:\u001b[0m\u001b[0;34m\u001b[0m\u001b[0;34m\u001b[0m\u001b[0m\n\u001b[1;32m   6016\u001b[0m             \u001b[0;32mif\u001b[0m \u001b[0merrors\u001b[0m \u001b[0;34m!=\u001b[0m \u001b[0;34m\"ignore\"\u001b[0m\u001b[0;34m:\u001b[0m\u001b[0;34m\u001b[0m\u001b[0;34m\u001b[0m\u001b[0m\n\u001b[0;32m-> 6017\u001b[0;31m                 \u001b[0;32mraise\u001b[0m \u001b[0mKeyError\u001b[0m\u001b[0;34m(\u001b[0m\u001b[0;34mf\"{labels[mask]} not found in axis\"\u001b[0m\u001b[0;34m)\u001b[0m\u001b[0;34m\u001b[0m\u001b[0;34m\u001b[0m\u001b[0m\n\u001b[0m\u001b[1;32m   6018\u001b[0m             \u001b[0mindexer\u001b[0m \u001b[0;34m=\u001b[0m \u001b[0mindexer\u001b[0m\u001b[0;34m[\u001b[0m\u001b[0;34m~\u001b[0m\u001b[0mmask\u001b[0m\u001b[0;34m]\u001b[0m\u001b[0;34m\u001b[0m\u001b[0;34m\u001b[0m\u001b[0m\n\u001b[1;32m   6019\u001b[0m         \u001b[0;32mreturn\u001b[0m \u001b[0mself\u001b[0m\u001b[0;34m.\u001b[0m\u001b[0mdelete\u001b[0m\u001b[0;34m(\u001b[0m\u001b[0mindexer\u001b[0m\u001b[0;34m)\u001b[0m\u001b[0;34m\u001b[0m\u001b[0;34m\u001b[0m\u001b[0m\n",
            "\u001b[0;31mKeyError\u001b[0m: \"['ym:s:from'] not found in axis\""
          ]
        }
      ]
    },
    {
      "cell_type": "code",
      "source": [
        "from sklearn.feature_selection import SelectKBest\n",
        "from sklearn.feature_selection import chi2\n",
        "#apply SelectKBest class to extract top 10 best features\n",
        "bestfeatures = SelectKBest(score_func=chi2, k=10)\n",
        "fit = bestfeatures.fit(X,y)\n",
        "dfscores = pd.DataFrame(fit.scores_)\n",
        "dfcolumns = pd.DataFrame(X.columns)\n",
        "#concat two dataframes for better visualization \n",
        "featureScores = pd.concat([dfcolumns,dfscores],axis=1)\n",
        "featureScores.columns = ['Specs','Score']  #naming the dataframe columns\n",
        "print(featureScores.nlargest(10,'Score'))  #print 10 best features"
      ],
      "metadata": {
        "colab": {
          "base_uri": "https://localhost:8080/"
        },
        "id": "esIdPG4-lS-1",
        "outputId": "32789df9-f2fd-445f-dc1f-f6fd85a0b2fa"
      },
      "execution_count": null,
      "outputs": [
        {
          "output_type": "stream",
          "name": "stdout",
          "text": [
            "Empty DataFrame\n",
            "Columns: [Specs, Score]\n",
            "Index: []\n"
          ]
        }
      ]
    },
    {
      "cell_type": "code",
      "source": [
        "X.to_csv('/content/drive/My Drive/X.csv')\n",
        "y.to_csv('/content/drive/My Drive/y.csv')"
      ],
      "metadata": {
        "id": "728AVnXxjXzL"
      },
      "execution_count": null,
      "outputs": []
    },
    {
      "cell_type": "code",
      "source": [
        "from sklearn.ensemble import ExtraTreesClassifier\n",
        "import matplotlib.pyplot as plt\n",
        "\n",
        "model = ExtraTreesClassifier()\n",
        "model.fit(X,y)\n",
        "print(model.feature_importances_) #use inbuilt class feature_importances of tree based classifiers\n",
        "#plot graph of feature importances for better visualization\n",
        "feat_importances = pd.Series(model.feature_importances_, index=X.columns)\n",
        "feat_importances.nlargest(10).plot(kind='barh')\n",
        "plt.show()"
      ],
      "metadata": {
        "id": "_wZ56hQZlWo0",
        "colab": {
          "base_uri": "https://localhost:8080/",
          "height": 300
        },
        "outputId": "e27411fd-1bda-4abd-e46a-c23606107ae9"
      },
      "execution_count": null,
      "outputs": [
        {
          "output_type": "stream",
          "name": "stdout",
          "text": [
            "[0. 0. 0. 0. 0. 0. 0. 0. 0. 0. 0. 0. 0. 0. 0. 0. 0. 0. 0. 0. 0. 0. 0. 0.\n",
            " 0. 0. 0. 0. 0. 0. 0. 0.]\n"
          ]
        },
        {
          "output_type": "display_data",
          "data": {
            "text/plain": [
              "<Figure size 432x288 with 1 Axes>"
            ],
            "image/png": "[encoded data removed]"
          },
          "metadata": {
            "needs_background": "light"
          }
        }
      ]
    },
    {
      "cell_type": "markdown",
      "source": [
        "# Создание Модели"
      ],
      "metadata": {
        "id": "hbypqhMVw_IM"
      }
    },
    {
      "cell_type": "code",
      "source": [
        "#Создание Модели"
      ],
      "metadata": {
        "id": "OoJbHFsQw5Ni"
      },
      "execution_count": null,
      "outputs": []
    },
    {
      "cell_type": "markdown",
      "source": [
        "# Дополнительно"
      ],
      "metadata": {
        "id": "SMuRMCqulX38"
      }
    },
    {
      "cell_type": "code",
      "source": [
        "def goal_id(x):\n",
        "    if isinstance(x, str):                # Если значение - строка:\n",
        "        # Замена концов строк на пробелы, удаление символа с кодом 0xA0,\n",
        "        # обрезка краевых пробелов и приведение к нижнему регистру\n",
        "        x = x.replace('\\n', ' ').replace('\\xa0', '').strip().lower()\n",
        "    return x\n",
        "    # найти в строке символы последовательности из двух символов\n",
        "    # и заменить их на пробелы\n",
        "    # x = re.sub(r'\\w \\w', ' ', x)\n",
        "    # найти в строке символы последовательности из трех символов и вернуть значение    # x = re.findall(r'\\w \\w \\w', x)\n",
        "    # вернуть значение\n",
        "    # return x\n",
        "\n",
        "x = \"[66245989,45605569,66245989,45085622,66245989,152446093]\"\n",
        "x1 = re.findall()\n"
      ],
      "metadata": {
        "id": "fbTPgjVZEiKs",
        "colab": {
          "base_uri": "https://localhost:8080/",
          "height": 201
        },
        "outputId": "4f46c8d5-13f0-406f-e0eb-0839ca0a2548"
      },
      "execution_count": null,
      "outputs": [
        {
          "output_type": "error",
          "ename": "TypeError",
          "evalue": "ignored",
          "traceback": [
            "\u001b[0;31m---------------------------------------------------------------------------\u001b[0m",
            "\u001b[0;31mTypeError\u001b[0m                                 Traceback (most recent call last)",
            "\u001b[0;32m<ipython-input-11-660aae41b3fd>\u001b[0m in \u001b[0;36m<module>\u001b[0;34m\u001b[0m\n\u001b[1;32m     13\u001b[0m \u001b[0;34m\u001b[0m\u001b[0m\n\u001b[1;32m     14\u001b[0m \u001b[0mx\u001b[0m \u001b[0;34m=\u001b[0m \u001b[0;34m\"[66245989,45605569,66245989,45085622,66245989,152446093]\"\u001b[0m\u001b[0;34m\u001b[0m\u001b[0;34m\u001b[0m\u001b[0m\n\u001b[0;32m---> 15\u001b[0;31m \u001b[0mx1\u001b[0m \u001b[0;34m=\u001b[0m \u001b[0mre\u001b[0m\u001b[0;34m.\u001b[0m\u001b[0mfindall\u001b[0m\u001b[0;34m(\u001b[0m\u001b[0;34m)\u001b[0m\u001b[0;34m\u001b[0m\u001b[0;34m\u001b[0m\u001b[0m\n\u001b[0m",
            "\u001b[0;31mTypeError\u001b[0m: findall() missing 2 required positional arguments: 'pattern' and 'string'"
          ]
        }
      ]
    }
  ]
}